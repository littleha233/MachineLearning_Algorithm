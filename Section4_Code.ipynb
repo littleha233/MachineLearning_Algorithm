{
 "cells": [
  {
   "cell_type": "code",
   "execution_count": 23,
   "metadata": {},
   "outputs": [
    {
     "name": "stdout",
     "output_type": "stream",
     "text": [
      "[1 1 1 1 0 2 0 0 0]\n"
     ]
    }
   ],
   "source": [
    "import numpy as np\n",
    "\n",
    "def k_means(x, k=3):\n",
    "    index_list = np.arange(len(x))\n",
    "    np.random.shuffle(index_list)\n",
    "    centroids_index = index_list[:k]\n",
    "    #随机生成三个簇心\n",
    "    centroids = x[centroids_index]\n",
    "    y = np.arange(len(x))\n",
    "    iter_num = 10 #自行设置迭代次数\n",
    "    for i in range(iter_num):\n",
    "        y_new = np.arange(len(x))\n",
    "        for i, xi in enumerate(x):\n",
    "            y_new[i] = np.argmin([np.linalg.norm(xi-cj) for cj in centroids])\n",
    "        for j in range(k):\n",
    "            centroids[j] = np.mean(x[np.where(y_new == j)], axis=0)\n",
    "        y = y_new.copy()\n",
    "    return y\n",
    "\n",
    "if __name__ == '__main__':\n",
    "    #可自行创造其他数据\n",
    "    x = np.array([[1,1],[3,3],[1,7],[2,8],[10,20],[1,30],[10,11],[15,18],[12,19]])\n",
    "    print(k_means(x))"
   ]
  },
  {
   "cell_type": "code",
   "execution_count": 8,
   "metadata": {},
   "outputs": [
    {
     "data": {
      "image/png": "[encoded data removed]",
      "text/plain": [
       "<Figure size 432x288 with 1 Axes>"
      ]
     },
     "metadata": {
      "needs_background": "light"
     },
     "output_type": "display_data"
    },
    {
     "data": {
      "image/png": "[encoded data removed]",
      "text/plain": [
       "<Figure size 432x288 with 1 Axes>"
      ]
     },
     "metadata": {
      "needs_background": "light"
     },
     "output_type": "display_data"
    },
    {
     "name": "stdout",
     "output_type": "stream",
     "text": [
      "total iterate: 10\n",
      "method      # of error instances             run_time/s               accuracy/%\n",
      "K-means           0.0            0.02462148666381836        0.0\n",
      "hierarchical       13.333333333333332            0.0004906415939331055         0.13333333333333333\n"
     ]
    }
   ],
   "source": [
    "import numpy as np\n",
    "import random\n",
    "from sklearn.cluster import KMeans, AgglomerativeClustering\n",
    "from sklearn import datasets, metrics\n",
    "from sklearn.model_selection import train_test_split\n",
    "import matplotlib.pyplot as plt\n",
    "import time\n",
    "np.random.seed()\n",
    "percentage=0.2\n",
    "iter=10\n",
    "\n",
    "def prepare_data():\n",
    "    iris = datasets.load_iris()\n",
    "    x = iris.data\n",
    "    #只取前两个属性进行测试\n",
    "#     x = x[:,:2]\n",
    "    #取前三个属性进行测试\n",
    "#     x = x[:,:3]\n",
    "    #取后两个属性进行测试\n",
    "    x = x[:,2:]\n",
    "    y = iris.target\n",
    "    \n",
    "    return x,y\n",
    "\n",
    "def eva_kmeans(x,y):\n",
    "    kmean_ei = 0.0\n",
    "    kmean_rt = 0.0\n",
    "    kmean_aa = 0.0\n",
    "    for i in range(0, iter):\n",
    "        x_train, x_test, y_train, y_test = train_test_split(x, y, train_size=0.8, test_size=0.2, random_state=1)\n",
    "        k_begin = time.time() \n",
    "        kmeans = KMeans(init=\"random\",algorithm=\"full\", random_state=0,n_clusters=5).fit(x_train,y_train)\n",
    "        kmeans_pred = kmeans.predict(x_test)\n",
    "        k_end = time.time() - k_begin\n",
    "        kmean_rt = kmean_rt + k_end\n",
    "        accuracy_number = metrics.accuracy_score(y_test, kmeans_pred)*100\n",
    "        kmean_ei = kmean_ei + accuracy_number\n",
    "        accuracy_percentage = metrics.accuracy_score(y_test, kmeans_pred)\n",
    "        kmean_aa = kmean_aa + accuracy_percentage\n",
    "\n",
    "    kmean_ei = kmean_ei / (iter*1.0)\n",
    "    kmean_rt = kmean_rt / (iter*1.0)\n",
    "    kmean_aa = kmean_aa / (iter*1.0)\n",
    "    plt.scatter(x[:, 0], x[:, 1])\n",
    "    plt.show()\n",
    "    return kmean_ei, kmean_rt, kmean_aa\n",
    "\n",
    "def eva_hierarchical(x,y):\n",
    "    hier_ei = 0.0\n",
    "    hier_rt = 0.0\n",
    "    hier_aa = 0.0\n",
    "    for i in range(0, 10):\n",
    "        x_train, x_test, y_train, y_test = train_test_split(x, y, train_size=0.8, test_size=0.2, random_state=1)\n",
    "        k_begin = time.time()\n",
    "        hier = AgglomerativeClustering(n_clusters=5,affinity=\"euclidean\",linkage=\"complete\")\n",
    "        hier_pred = hier.fit_predict(x_test)\n",
    "        k_end = time.time() - k_begin\n",
    "        hier_rt = hier_rt + k_end\n",
    "        accuracy_number = metrics.accuracy_score(y_test, hier_pred)*100\n",
    "        hier_ei = hier_ei + accuracy_number \n",
    "        accuracy_percentage = metrics.accuracy_score(y_test, hier_pred)\n",
    "        hier_aa = hier_aa + accuracy_percentage\n",
    "    hier_ei = hier_ei / (iter*1.0)\n",
    "    hier_rt = hier_rt / (iter*1.0)\n",
    "    hier_aa = hier_aa / (iter*1.0)\n",
    "    plt.scatter(x[:, 0], x[:, 1])\n",
    "    plt.show()\n",
    "\n",
    "    return hier_ei, hier_rt, hier_aa\n",
    "\n",
    "if __name__ == '__main__':\n",
    "    x,y=prepare_data()\n",
    "    kmean_ei, kmean_rt, kmean_aa=eva_kmeans(x,y)\n",
    "    hier_ei, hier_rt, hier_aa = eva_hierarchical(x, y)\n",
    "    print (\"total iterate:\",iter)\n",
    "    print (\"method   \",  \"  # of error instances     \",  \"       run_time/s           \", \"   accuracy/%\")\n",
    "    print (\"K-means          \",  kmean_ei,    \"          \",           kmean_rt,\"      \",  kmean_aa)\n",
    "    print (\"hierarchical      \", hier_ei,  \"          \", hier_rt, \"       \", hier_aa)\n",
    "    \n",
    "    \n",
    "    \n",
    "    \n"
   ]
  },
  {
   "cell_type": "code",
   "execution_count": null,
   "metadata": {},
   "outputs": [],
   "source": []
  }
 ],
 "metadata": {
  "kernelspec": {
   "display_name": "Python 3",
   "language": "python",
   "name": "python3"
  },
  "language_info": {
   "codemirror_mode": {
    "name": "ipython",
    "version": 3
   },
   "file_extension": ".py",
   "mimetype": "text/x-python",
   "name": "python",
   "nbconvert_exporter": "python",
   "pygments_lexer": "ipython3",
   "version": "3.6.2"
  }
 },
 "nbformat": 4,
 "nbformat_minor": 2
}
